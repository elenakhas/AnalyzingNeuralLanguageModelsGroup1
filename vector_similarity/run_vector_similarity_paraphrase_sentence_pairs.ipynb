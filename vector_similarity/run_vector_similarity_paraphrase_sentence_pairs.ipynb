{
 "cells": [
  {
   "cell_type": "code",
   "execution_count": 7,
   "metadata": {},
   "outputs": [],
   "source": [
    "import run_vector_similarity"
   ]
  },
  {
   "cell_type": "code",
   "execution_count": 7,
   "metadata": {},
   "outputs": [
    {
     "data": {
      "application/javascript": [
       "IPython.OutputArea.prototype._should_scroll = function(lines) {\n",
       "    return false;\n",
       "}\n"
      ],
      "text/plain": [
       "<IPython.core.display.Javascript object>"
      ]
     },
     "metadata": {},
     "output_type": "display_data"
    }
   ],
   "source": [
    "%%javascript\n",
    "IPython.OutputArea.prototype._should_scroll = function(lines) {\n",
    "    return false;\n",
    "}"
   ]
  },
  {
   "cell_type": "code",
   "execution_count": 8,
   "metadata": {},
   "outputs": [],
   "source": [
    "class objectview(object):\n",
    "    def __init__(self, d):\n",
    "        self.__dict__ = d"
   ]
  },
  {
   "cell_type": "markdown",
   "metadata": {},
   "source": [
    "#  BERT - LARGE"
   ]
  },
  {
   "cell_type": "code",
   "execution_count": 8,
   "metadata": {},
   "outputs": [],
   "source": [
    "# BERT - LARGE\n",
    "\n",
    "# run_probe.py --run train  --input ../data/Exp6/train.tsv --run_name para_pairs_bert_large_train --embedding_cache cache/para_pairs_bert_large_train --rand_seed 42\n",
    "\n",
    "# python3 run_probe.py --run train --input ../data/Exp6/train.tsv --run_name para_pairs_bert_large_train --embedding_model bert-large-uncased --embedding_cache cache/classify_bert_large_1 --rand_seed 42\n",
    "\n",
    "train_probe_args = {\n",
    "    'run': 'train',\n",
    "    'input': '../data/Exp6/train.tsv',\n",
    "    'embedding_model': 'bert-large-uncased',\n",
    "    'run_name': 'train_classify_bert_large_1',\n",
    "    'embedding_batch_size': 64,\n",
    "    'rand_seed': 42,\n",
    "    'embedding_cache': 'cache/train_classify_bert_large_1',\n",
    "#     'embedding_cache': None\n",
    "}\n",
    "\n",
    "# python3 run_probe.py --run test --input ../data/Exp6/train.tsv --run_name classify_bert_large_1 --embedding_model bert-large-uncased --embedding_cache cache/classify_bert_large_1 --model output/classify_bert_large_1/model.pt --rand_seed 42\n",
    "test_probe_args = {\n",
    "    'run': 'test',\n",
    "    'input': '../data/Exp6/dev.tsv',\n",
    "    'embedding_model': 'bert-large-uncased',\n",
    "    'run_name': 'test_classify_bert_large_1',\n",
    "    'embedding_batch_size': 64,\n",
    "    'rand_seed': 42,\n",
    "    'model': 'output/test_classify_bert_large_1/model.pt',\n",
    "    'embedding_cache': None\n",
    "}\n"
   ]
  },
  {
   "cell_type": "code",
   "execution_count": null,
   "metadata": {},
   "outputs": [],
   "source": [
    "sent_args = {\n",
    "   'comparison_type': 'para_pairs',\n",
    "    'input': '../probe/output/daniel/train_classifications.tsv',\n",
    "    'embedding_model': 'bert-large-uncased',\n",
    "    'run_name': 'sent_paraphrase_bert_large_1',\n",
    "    'embedding_batch_size': 32,\n",
    "    'embedding_cache': None\n",
    "}\n",
    "\n",
    "main(objectview(sent_args))"
   ]
  },
  {
   "cell_type": "markdown",
   "metadata": {},
   "source": [
    "# BERT- BASE "
   ]
  },
  {
   "cell_type": "code",
   "execution_count": null,
   "metadata": {},
   "outputs": [],
   "source": [
    "sent_args = {\n",
    "   'comparison_type': 'para_pairs',\n",
    "    'input': '../probe/output/daniel/train_classifications.tsv',\n",
    "    'embedding_model': 'bert-base-uncased',\n",
    "    'run_name': 'paraphrase_bert_base_1',\n",
    "    'embedding_batch_size': 32,\n",
    "    'embedding_cache': None\n",
    "}\n",
    "\n",
    "# main(objectview(sent_args))"
   ]
  },
  {
   "cell_type": "markdown",
   "metadata": {},
   "source": [
    "# Fine-tuned on MRPC"
   ]
  },
  {
   "cell_type": "markdown",
   "metadata": {},
   "source": [
    "# Fine-tuned on our idiom data"
   ]
  },
  {
   "cell_type": "markdown",
   "metadata": {},
   "source": [
    "# MRPC on same amout as our data"
   ]
  }
 ],
 "metadata": {
  "kernelspec": {
   "display_name": "Python 3",
   "language": "python",
   "name": "python3"
  },
  "language_info": {
   "codemirror_mode": {
    "name": "ipython",
    "version": 3
   },
   "file_extension": ".py",
   "mimetype": "text/x-python",
   "name": "python",
   "nbconvert_exporter": "python",
   "pygments_lexer": "ipython3",
   "version": "3.7.1"
  }
 },
 "nbformat": 4,
 "nbformat_minor": 2
}
