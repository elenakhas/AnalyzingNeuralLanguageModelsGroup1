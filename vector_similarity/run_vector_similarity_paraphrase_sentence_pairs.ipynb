{
 "cells": [
  {
   "cell_type": "code",
   "execution_count": 5,
   "metadata": {},
   "outputs": [],
   "source": [
    "import run_vector_similarity"
   ]
  },
  {
   "cell_type": "code",
   "execution_count": 2,
   "metadata": {},
   "outputs": [
    {
     "data": {
      "application/javascript": [
       "IPython.OutputArea.prototype._should_scroll = function(lines) {\n",
       "    return false;\n",
       "}\n"
      ],
      "text/plain": [
       "<IPython.core.display.Javascript object>"
      ]
     },
     "metadata": {},
     "output_type": "display_data"
    }
   ],
   "source": [
    "%%javascript\n",
    "IPython.OutputArea.prototype._should_scroll = function(lines) {\n",
    "    return false;\n",
    "}"
   ]
  },
  {
   "cell_type": "code",
   "execution_count": 3,
   "metadata": {},
   "outputs": [],
   "source": [
    "class objectview(object):\n",
    "    def __init__(self, d):\n",
    "        self.__dict__ = d"
   ]
  },
  {
   "cell_type": "markdown",
   "metadata": {},
   "source": [
    "#  Example"
   ]
  },
  {
   "cell_type": "code",
   "execution_count": 4,
   "metadata": {},
   "outputs": [
    {
     "name": "stderr",
     "output_type": "stream",
     "text": [
      "DEBUG:urllib3.connectionpool:Starting new HTTPS connection (1): s3.amazonaws.com:443\n",
      "DEBUG:urllib3.connectionpool:https://s3.amazonaws.com:443 \"HEAD /models.huggingface.co/bert/bert-large-uncased-vocab.txt HTTP/1.1\" 200 0\n",
      "INFO:transformers.tokenization_utils:loading file https://s3.amazonaws.com/models.huggingface.co/bert/bert-large-uncased-vocab.txt from cache at /Users/paigefink/.cache/torch/transformers/9b3c03a36e83b13d5ba95ac965c9f9074a99e14340c523ab405703179e79fc46.542ce4285a40d23a559526243235df47c5f75c197f04f37d1a0c124c32c9a084\n",
      "INFO:data_loading:Loading embedding data from cache/sentence_word_large...\n",
      "INFO:data_loading:Loading sentences.pt from cache/sentence_word_large\n",
      "INFO:data_loading:Loading inputs.pt from cache/sentence_word_large\n",
      "INFO:data_loading:Loading indices.pt from cache/sentence_word_large\n",
      "INFO:data_loading:Loading pools.pt from cache/sentence_word_large\n"
     ]
    },
    {
     "name": "stdout",
     "output_type": "stream",
     "text": [
      "average_cosine_sim_for_correctly_judged_paraphrases: 0.8569971099495888\n",
      "\n",
      "average_cosine_sim_for_correctly_judged_non_paraphrases: 0.949426515918711\n",
      "\n",
      "average_cosine_sim_for_incorrectly_judged_paraphrases: 0.9462961047178223\n",
      "\n",
      "average_cosine_sim_for_incorrectly_judged_non_paraphrases: 0.8110689409077168\n",
      "\n",
      "average_cosine_for_paraphrases: 0.9320082655549049\n",
      "\n",
      "average_cosine_for_non_paraphrases: 0.9383579099178314\n",
      "\n",
      "\n",
      "\n"
     ]
    }
   ],
   "source": [
    "sent_args = {\n",
    "   'comparison_type': 'para_pairs',\n",
    "    'input': '../probe/output/bert_large_combined_test_dev/test_classifications.tsv',\n",
    "    'embedding_model': 'bert-large-uncased',\n",
    "    'run_name': 'sentence_word_large',\n",
    "    'embedding_batch_size': 32,\n",
    "    'embedding_cache': 'cache/sentence_word_large'\n",
    "}\n",
    "\n",
    "run_vector_similarity.main(objectview(sent_args))"
   ]
  }
 ],
 "metadata": {
  "kernelspec": {
   "display_name": "Python 3",
   "language": "python",
   "name": "python3"
  },
  "language_info": {
   "codemirror_mode": {
    "name": "ipython",
    "version": 3
   },
   "file_extension": ".py",
   "mimetype": "text/x-python",
   "name": "python",
   "nbconvert_exporter": "python",
   "pygments_lexer": "ipython3",
   "version": "3.7.1"
  }
 },
 "nbformat": 4,
 "nbformat_minor": 2
}
